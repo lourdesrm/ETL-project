{
 "cells": [
  {
   "cell_type": "code",
   "execution_count": null,
   "metadata": {},
   "outputs": [],
   "source": [
    "import sqlite3\n",
    "\n",
    "conn = sqlite3.connect('climate_metrics.db')  # You can create a new database by changing the name within the quotes\n",
    "c = conn.cursor() # The database will be saved in the location where your 'py' file is saved\n",
    "\n",
    "# Create table - CLIENTS\n",
    "c.execute('''CREATE TABLE CLIENTS\n",
    "             ([generated_id] INTEGER PRIMARY KEY,[Client_Name] text, [Country_ID] integer, [Date] date)''')\n",
    "          \n",
    "# Create table - COUNTRY\n",
    "c.execute('''CREATE TABLE COUNTRY\n",
    "             ([generated_id] INTEGER PRIMARY KEY,[Country_ID] integer, [Country_Name] text)''')\n",
    "        \n",
    "# Create table - DAILY_STATUS\n",
    "c.execute('''CREATE TABLE DAILY_STATUS\n",
    "             ([Client_Name] text, [Country_Name] text, [Date] date)''')\n",
    "                 \n",
    "conn.commit()\n",
    "\n",
    "# Note that the syntax to create new tables should only be used once in the code (unless you dropped the table/s at the end of the code). \n",
    "# The [generated_id] column is used to set an auto-increment ID for each record\n",
    "# When creating a new table, you can add both the field names as well as the field formats (e.g., Text)"
   ]
  }
 ],
 "metadata": {
  "kernelspec": {
   "display_name": "Python 3",
   "language": "python",
   "name": "python3"
  },
  "language_info": {
   "codemirror_mode": {
    "name": "ipython",
    "version": 3
   },
   "file_extension": ".py",
   "mimetype": "text/x-python",
   "name": "python",
   "nbconvert_exporter": "python",
   "pygments_lexer": "ipython3",
   "version": "3.7.4"
  }
 },
 "nbformat": 4,
 "nbformat_minor": 4
}
